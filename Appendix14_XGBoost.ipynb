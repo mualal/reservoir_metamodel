{
 "cells": [
  {
   "cell_type": "code",
   "execution_count": 1,
   "metadata": {},
   "outputs": [],
   "source": [
    "import numpy as np\n",
    "import pandas as pd\n",
    "import xgboost as xg\n",
    "from sklearn.metrics import mean_squared_error as MSE\n",
    "from sklearn.metrics import accuracy_score\n",
    "import matplotlib.pyplot as plt\n",
    "import time\n",
    "import pylab as pl\n",
    "from IPython import display\n"
   ]
  },
  {
   "cell_type": "code",
   "execution_count": 2,
   "metadata": {},
   "outputs": [],
   "source": [
    "# Считывание данных из csv файла\n",
    "data = pd.read_csv(\"cases3.csv\",header=None)\n",
    "\n",
    "# Количество месяцев расчёта на симуляторе\n",
    "month_count = 61\n",
    "\n",
    "# Необходимо указать количество кейсов для обучения, валидации и тестирования\n",
    "train_count = 400\n",
    "valid_count = 100\n",
    "test_count = 800\n",
    "\n",
    "# Разделение считанных данных на обучающую, валидационную и тестовую выборки\n",
    "data_train = data.iloc[:,0:train_count]\n",
    "data_valid = data.iloc[:,train_count:train_count+valid_count]\n",
    "data_test = data.iloc[:,train_count+valid_count:train_count\n",
    "                      +valid_count+test_count]\n"
   ]
  },
  {
   "cell_type": "code",
   "execution_count": 3,
   "metadata": {},
   "outputs": [
    {
     "data": {
      "text/html": [
       "<div>\n",
       "<style scoped>\n",
       "    .dataframe tbody tr th:only-of-type {\n",
       "        vertical-align: middle;\n",
       "    }\n",
       "\n",
       "    .dataframe tbody tr th {\n",
       "        vertical-align: top;\n",
       "    }\n",
       "\n",
       "    .dataframe thead th {\n",
       "        text-align: right;\n",
       "    }\n",
       "</style>\n",
       "<table border=\"1\" class=\"dataframe\">\n",
       "  <thead>\n",
       "    <tr style=\"text-align: right;\">\n",
       "      <th></th>\n",
       "      <th>0</th>\n",
       "      <th>1</th>\n",
       "      <th>2</th>\n",
       "      <th>3</th>\n",
       "      <th>4</th>\n",
       "      <th>5</th>\n",
       "      <th>6</th>\n",
       "      <th>7</th>\n",
       "      <th>8</th>\n",
       "      <th>9</th>\n",
       "      <th>...</th>\n",
       "      <th>2590</th>\n",
       "      <th>2591</th>\n",
       "      <th>2592</th>\n",
       "      <th>2593</th>\n",
       "      <th>2594</th>\n",
       "      <th>2595</th>\n",
       "      <th>2596</th>\n",
       "      <th>2597</th>\n",
       "      <th>2598</th>\n",
       "      <th>2599</th>\n",
       "    </tr>\n",
       "  </thead>\n",
       "  <tbody>\n",
       "    <tr>\n",
       "      <th>0</th>\n",
       "      <td>0.177500</td>\n",
       "      <td>0.178375</td>\n",
       "      <td>0.170875</td>\n",
       "      <td>0.162750</td>\n",
       "      <td>0.15400</td>\n",
       "      <td>0.171500</td>\n",
       "      <td>0.165125</td>\n",
       "      <td>0.191500</td>\n",
       "      <td>0.199125</td>\n",
       "      <td>0.151375</td>\n",
       "      <td>...</td>\n",
       "      <td>0.147500</td>\n",
       "      <td>0.146937</td>\n",
       "      <td>0.152938</td>\n",
       "      <td>0.156625</td>\n",
       "      <td>0.144937</td>\n",
       "      <td>0.149812</td>\n",
       "      <td>0.146250</td>\n",
       "      <td>0.142563</td>\n",
       "      <td>0.145063</td>\n",
       "      <td>0.142187</td>\n",
       "    </tr>\n",
       "    <tr>\n",
       "      <th>1</th>\n",
       "      <td>8.350625</td>\n",
       "      <td>2.321875</td>\n",
       "      <td>4.938125</td>\n",
       "      <td>5.950500</td>\n",
       "      <td>2.76550</td>\n",
       "      <td>7.122125</td>\n",
       "      <td>5.700250</td>\n",
       "      <td>3.698250</td>\n",
       "      <td>4.983625</td>\n",
       "      <td>2.094375</td>\n",
       "      <td>...</td>\n",
       "      <td>6.121125</td>\n",
       "      <td>5.643375</td>\n",
       "      <td>8.384750</td>\n",
       "      <td>6.661437</td>\n",
       "      <td>8.344938</td>\n",
       "      <td>6.712625</td>\n",
       "      <td>7.275688</td>\n",
       "      <td>6.581812</td>\n",
       "      <td>6.803625</td>\n",
       "      <td>7.668125</td>\n",
       "    </tr>\n",
       "    <tr>\n",
       "      <th>2</th>\n",
       "      <td>0.038413</td>\n",
       "      <td>0.013213</td>\n",
       "      <td>0.027669</td>\n",
       "      <td>0.041787</td>\n",
       "      <td>0.02120</td>\n",
       "      <td>0.037738</td>\n",
       "      <td>0.036275</td>\n",
       "      <td>0.015688</td>\n",
       "      <td>0.029750</td>\n",
       "      <td>0.043306</td>\n",
       "      <td>...</td>\n",
       "      <td>0.023534</td>\n",
       "      <td>0.030200</td>\n",
       "      <td>0.035234</td>\n",
       "      <td>0.033659</td>\n",
       "      <td>0.040691</td>\n",
       "      <td>0.027106</td>\n",
       "      <td>0.035966</td>\n",
       "      <td>0.034588</td>\n",
       "      <td>0.033350</td>\n",
       "      <td>0.035797</td>\n",
       "    </tr>\n",
       "    <tr>\n",
       "      <th>3</th>\n",
       "      <td>444.875000</td>\n",
       "      <td>596.000000</td>\n",
       "      <td>335.187500</td>\n",
       "      <td>286.437500</td>\n",
       "      <td>1115.18750</td>\n",
       "      <td>1629.500000</td>\n",
       "      <td>1124.937500</td>\n",
       "      <td>1280.937500</td>\n",
       "      <td>1529.562500</td>\n",
       "      <td>622.812500</td>\n",
       "      <td>...</td>\n",
       "      <td>890.937500</td>\n",
       "      <td>899.468750</td>\n",
       "      <td>1479.593750</td>\n",
       "      <td>1206.593750</td>\n",
       "      <td>1358.937500</td>\n",
       "      <td>1528.343750</td>\n",
       "      <td>752.000000</td>\n",
       "      <td>1005.500000</td>\n",
       "      <td>1415.000000</td>\n",
       "      <td>1198.062500</td>\n",
       "    </tr>\n",
       "    <tr>\n",
       "      <th>4</th>\n",
       "      <td>0.000000</td>\n",
       "      <td>0.000000</td>\n",
       "      <td>0.000000</td>\n",
       "      <td>0.000000</td>\n",
       "      <td>0.00000</td>\n",
       "      <td>0.000000</td>\n",
       "      <td>0.000000</td>\n",
       "      <td>0.000000</td>\n",
       "      <td>0.000000</td>\n",
       "      <td>0.000000</td>\n",
       "      <td>...</td>\n",
       "      <td>0.000000</td>\n",
       "      <td>0.000000</td>\n",
       "      <td>0.000000</td>\n",
       "      <td>0.000000</td>\n",
       "      <td>0.000000</td>\n",
       "      <td>0.000000</td>\n",
       "      <td>0.000000</td>\n",
       "      <td>0.000000</td>\n",
       "      <td>0.000000</td>\n",
       "      <td>0.000000</td>\n",
       "    </tr>\n",
       "    <tr>\n",
       "      <th>...</th>\n",
       "      <td>...</td>\n",
       "      <td>...</td>\n",
       "      <td>...</td>\n",
       "      <td>...</td>\n",
       "      <td>...</td>\n",
       "      <td>...</td>\n",
       "      <td>...</td>\n",
       "      <td>...</td>\n",
       "      <td>...</td>\n",
       "      <td>...</td>\n",
       "      <td>...</td>\n",
       "      <td>...</td>\n",
       "      <td>...</td>\n",
       "      <td>...</td>\n",
       "      <td>...</td>\n",
       "      <td>...</td>\n",
       "      <td>...</td>\n",
       "      <td>...</td>\n",
       "      <td>...</td>\n",
       "      <td>...</td>\n",
       "      <td>...</td>\n",
       "    </tr>\n",
       "    <tr>\n",
       "      <th>60</th>\n",
       "      <td>104.290400</td>\n",
       "      <td>99.050500</td>\n",
       "      <td>103.492400</td>\n",
       "      <td>112.334300</td>\n",
       "      <td>57.25322</td>\n",
       "      <td>79.515710</td>\n",
       "      <td>78.553020</td>\n",
       "      <td>76.748740</td>\n",
       "      <td>96.573110</td>\n",
       "      <td>93.296790</td>\n",
       "      <td>...</td>\n",
       "      <td>42.695320</td>\n",
       "      <td>54.767280</td>\n",
       "      <td>54.630770</td>\n",
       "      <td>62.151570</td>\n",
       "      <td>57.229840</td>\n",
       "      <td>42.279860</td>\n",
       "      <td>59.718810</td>\n",
       "      <td>52.815480</td>\n",
       "      <td>48.348240</td>\n",
       "      <td>50.135350</td>\n",
       "    </tr>\n",
       "    <tr>\n",
       "      <th>61</th>\n",
       "      <td>98.798740</td>\n",
       "      <td>94.800750</td>\n",
       "      <td>97.641110</td>\n",
       "      <td>106.395000</td>\n",
       "      <td>54.44020</td>\n",
       "      <td>74.696330</td>\n",
       "      <td>74.203210</td>\n",
       "      <td>73.048580</td>\n",
       "      <td>92.013830</td>\n",
       "      <td>88.830380</td>\n",
       "      <td>...</td>\n",
       "      <td>39.877550</td>\n",
       "      <td>49.773280</td>\n",
       "      <td>50.924390</td>\n",
       "      <td>58.318130</td>\n",
       "      <td>53.381210</td>\n",
       "      <td>39.311170</td>\n",
       "      <td>56.399070</td>\n",
       "      <td>48.649310</td>\n",
       "      <td>44.987610</td>\n",
       "      <td>46.649430</td>\n",
       "    </tr>\n",
       "    <tr>\n",
       "      <th>62</th>\n",
       "      <td>93.620640</td>\n",
       "      <td>90.854000</td>\n",
       "      <td>92.039750</td>\n",
       "      <td>100.811100</td>\n",
       "      <td>51.68710</td>\n",
       "      <td>70.065650</td>\n",
       "      <td>70.094350</td>\n",
       "      <td>69.882840</td>\n",
       "      <td>87.565950</td>\n",
       "      <td>85.645460</td>\n",
       "      <td>...</td>\n",
       "      <td>36.909990</td>\n",
       "      <td>46.441210</td>\n",
       "      <td>47.347190</td>\n",
       "      <td>54.547230</td>\n",
       "      <td>49.684350</td>\n",
       "      <td>36.507560</td>\n",
       "      <td>52.897370</td>\n",
       "      <td>45.478400</td>\n",
       "      <td>41.848600</td>\n",
       "      <td>43.482940</td>\n",
       "    </tr>\n",
       "    <tr>\n",
       "      <th>63</th>\n",
       "      <td>88.625320</td>\n",
       "      <td>86.658030</td>\n",
       "      <td>86.808980</td>\n",
       "      <td>95.556920</td>\n",
       "      <td>49.04267</td>\n",
       "      <td>65.394470</td>\n",
       "      <td>66.034550</td>\n",
       "      <td>66.419120</td>\n",
       "      <td>83.170890</td>\n",
       "      <td>82.389550</td>\n",
       "      <td>...</td>\n",
       "      <td>33.729560</td>\n",
       "      <td>43.583130</td>\n",
       "      <td>44.038810</td>\n",
       "      <td>50.976020</td>\n",
       "      <td>46.217120</td>\n",
       "      <td>33.738820</td>\n",
       "      <td>48.960950</td>\n",
       "      <td>42.475460</td>\n",
       "      <td>38.841030</td>\n",
       "      <td>40.440670</td>\n",
       "    </tr>\n",
       "    <tr>\n",
       "      <th>64</th>\n",
       "      <td>83.998110</td>\n",
       "      <td>82.379430</td>\n",
       "      <td>81.935940</td>\n",
       "      <td>90.564590</td>\n",
       "      <td>46.67566</td>\n",
       "      <td>60.822720</td>\n",
       "      <td>62.086640</td>\n",
       "      <td>62.999690</td>\n",
       "      <td>78.864130</td>\n",
       "      <td>79.452240</td>\n",
       "      <td>...</td>\n",
       "      <td>31.188690</td>\n",
       "      <td>40.756030</td>\n",
       "      <td>40.874900</td>\n",
       "      <td>47.598750</td>\n",
       "      <td>42.975120</td>\n",
       "      <td>31.195260</td>\n",
       "      <td>44.504320</td>\n",
       "      <td>39.601840</td>\n",
       "      <td>35.978390</td>\n",
       "      <td>37.604530</td>\n",
       "    </tr>\n",
       "  </tbody>\n",
       "</table>\n",
       "<p>65 rows × 2600 columns</p>\n",
       "</div>"
      ],
      "text/plain": [
       "          0           1           2           3           4            5     \\\n",
       "0     0.177500    0.178375    0.170875    0.162750     0.15400     0.171500   \n",
       "1     8.350625    2.321875    4.938125    5.950500     2.76550     7.122125   \n",
       "2     0.038413    0.013213    0.027669    0.041787     0.02120     0.037738   \n",
       "3   444.875000  596.000000  335.187500  286.437500  1115.18750  1629.500000   \n",
       "4     0.000000    0.000000    0.000000    0.000000     0.00000     0.000000   \n",
       "..         ...         ...         ...         ...         ...          ...   \n",
       "60  104.290400   99.050500  103.492400  112.334300    57.25322    79.515710   \n",
       "61   98.798740   94.800750   97.641110  106.395000    54.44020    74.696330   \n",
       "62   93.620640   90.854000   92.039750  100.811100    51.68710    70.065650   \n",
       "63   88.625320   86.658030   86.808980   95.556920    49.04267    65.394470   \n",
       "64   83.998110   82.379430   81.935940   90.564590    46.67566    60.822720   \n",
       "\n",
       "           6            7            8           9     ...        2590  \\\n",
       "0      0.165125     0.191500     0.199125    0.151375  ...    0.147500   \n",
       "1      5.700250     3.698250     4.983625    2.094375  ...    6.121125   \n",
       "2      0.036275     0.015688     0.029750    0.043306  ...    0.023534   \n",
       "3   1124.937500  1280.937500  1529.562500  622.812500  ...  890.937500   \n",
       "4      0.000000     0.000000     0.000000    0.000000  ...    0.000000   \n",
       "..          ...          ...          ...         ...  ...         ...   \n",
       "60    78.553020    76.748740    96.573110   93.296790  ...   42.695320   \n",
       "61    74.203210    73.048580    92.013830   88.830380  ...   39.877550   \n",
       "62    70.094350    69.882840    87.565950   85.645460  ...   36.909990   \n",
       "63    66.034550    66.419120    83.170890   82.389550  ...   33.729560   \n",
       "64    62.086640    62.999690    78.864130   79.452240  ...   31.188690   \n",
       "\n",
       "          2591         2592         2593         2594         2595  \\\n",
       "0     0.146937     0.152938     0.156625     0.144937     0.149812   \n",
       "1     5.643375     8.384750     6.661437     8.344938     6.712625   \n",
       "2     0.030200     0.035234     0.033659     0.040691     0.027106   \n",
       "3   899.468750  1479.593750  1206.593750  1358.937500  1528.343750   \n",
       "4     0.000000     0.000000     0.000000     0.000000     0.000000   \n",
       "..         ...          ...          ...          ...          ...   \n",
       "60   54.767280    54.630770    62.151570    57.229840    42.279860   \n",
       "61   49.773280    50.924390    58.318130    53.381210    39.311170   \n",
       "62   46.441210    47.347190    54.547230    49.684350    36.507560   \n",
       "63   43.583130    44.038810    50.976020    46.217120    33.738820   \n",
       "64   40.756030    40.874900    47.598750    42.975120    31.195260   \n",
       "\n",
       "          2596         2597         2598         2599  \n",
       "0     0.146250     0.142563     0.145063     0.142187  \n",
       "1     7.275688     6.581812     6.803625     7.668125  \n",
       "2     0.035966     0.034588     0.033350     0.035797  \n",
       "3   752.000000  1005.500000  1415.000000  1198.062500  \n",
       "4     0.000000     0.000000     0.000000     0.000000  \n",
       "..         ...          ...          ...          ...  \n",
       "60   59.718810    52.815480    48.348240    50.135350  \n",
       "61   56.399070    48.649310    44.987610    46.649430  \n",
       "62   52.897370    45.478400    41.848600    43.482940  \n",
       "63   48.960950    42.475460    38.841030    40.440670  \n",
       "64   44.504320    39.601840    35.978390    37.604530  \n",
       "\n",
       "[65 rows x 2600 columns]"
      ]
     },
     "execution_count": 3,
     "metadata": {},
     "output_type": "execute_result"
    }
   ],
   "source": [
    "# Вывод таблицы с данными в JupyterLab\n",
    "\n",
    "# в таблице: столбцы - кейсы расчитанные на симуляторе (каждый\n",
    "# со своими значениями входных параметров)\n",
    "\n",
    "# строка 0 - пористость матрицы (входной параметр)\n",
    "\n",
    "# строка 1 - проницаемость матрицы (входной параметр)\n",
    "\n",
    "# строка 2 - пористость трещин (входной параметр)\n",
    "\n",
    "# строка 3 - проницаемость трещин (входной параметр)\n",
    "\n",
    "# строки 4-64 - дебиты нефти по месяцам 0-60 (выходные параметры)\n",
    "\n",
    "data\n"
   ]
  },
  {
   "cell_type": "code",
   "execution_count": 4,
   "metadata": {},
   "outputs": [
    {
     "data": {
      "image/png": "[encoded data removed]",
      "text/plain": [
       "<Figure size 432x288 with 1 Axes>"
      ]
     },
     "metadata": {
      "needs_background": "light"
     },
     "output_type": "display_data"
    }
   ],
   "source": [
    "# Массив для построенных XGBoost метамоделей (для каждого месяца своя модель)\n",
    "XGB_models = []\n",
    "\n",
    "# В цикле для каждого месяца строится своя XGBoost метамодель\n",
    "for month_current in range(1,month_count):\n",
    "    \n",
    "    # Разделение входных и целевых данных\n",
    "    X_train,T_train = data_train.iloc[:-month_count,:].transpose(), \\\n",
    "                      data_train.iloc[month_current-month_count,:]\n",
    "    X_valid,T_valid = data_valid.iloc[:-month_count,:].transpose(), \\\n",
    "                      data_valid.iloc[month_current-month_count,:]\n",
    "    X_test,T_test = data_test.iloc[:-month_count,:].transpose(), \\\n",
    "                      data_test.iloc[month_current-month_count,:]\n",
    "    xgb_r = xg.XGBRegressor(learning_rate=0.05,n_estimators=100,\n",
    "                            max_depth=100,gamma=0)\n",
    "    #xgb_r = xg.XGBRegressor(learning_rate=0.009,n_estimators=1000,\n",
    "    #min_child_weight=0.03,max_depth=10)\n",
    "    #xgb_r = xg.XGBRegressor()\n",
    "    \n",
    "    # Наборы, на которых будут проводиться обучение, валидация и тестирование\n",
    "    eval_set = [(X_train,T_train),(X_valid,T_valid),(X_test,T_test)]\n",
    "    \n",
    "    # Обучение\n",
    "    xgb_r.fit(X_train,T_train,eval_metric=[\"rmse\"],\n",
    "              eval_set=eval_set,verbose=False)\n",
    "    XGB_models.append(xgb_r)\n",
    "    \n",
    "    # Вывод истории процесса обучения (значений функции потерь)\n",
    "    if month_current == 7:\n",
    "        results=xgb_r.evals_result()\n",
    "        epochs=len(results['validation_0']['rmse'])\n",
    "        x_axis=range(0,epochs)\n",
    "        fig, ax = plt.subplots()\n",
    "        plt.rcParams['figure.figsize']=[7,7]\n",
    "        ax.plot(x_axis,results['validation_0']['rmse'],label='Train')\n",
    "        ax.plot(x_axis,results['validation_1']['rmse'],label='Valid')\n",
    "        ax.plot(x_axis,results['validation_2']['rmse'],label='Test')\n",
    "        ax.legend(fontsize=14)\n",
    "        plt.xlabel('Epoch',fontsize=16)\n",
    "        plt.xticks(fontsize=14)\n",
    "        plt.ylabel('RMSE',fontsize=16)\n",
    "        plt.yticks(fontsize=14)\n",
    "        plt.title('XGBoost Training',fontsize=18)\n",
    "        plt.grid(which='both')\n",
    "        plt.show()\n"
   ]
  },
  {
   "cell_type": "code",
   "execution_count": 5,
   "metadata": {},
   "outputs": [
    {
     "data": {
      "text/plain": [
       "Text(0, 0.5, 'Ошибка, в процентах')"
      ]
     },
     "execution_count": 5,
     "metadata": {},
     "output_type": "execute_result"
    },
    {
     "data": {
      "image/png": "[encoded data removed]",
      "text/plain": [
       "<Figure size 1000x700 with 1 Axes>"
      ]
     },
     "metadata": {
      "needs_background": "light"
     },
     "output_type": "display_data"
    }
   ],
   "source": [
    "# Прогноз\n",
    "months_for_forecast = 11 #количество месяцев для прогноза\n",
    "rel_errors = {}\n",
    "for month_current in range(1,months_for_forecast):\n",
    "    X,T = data.iloc[:-month_count,:].transpose(), \\\n",
    "          data.iloc[month_current-month_count,:]\n",
    "    Y = XGB_models[month_current-1].predict(X)\n",
    "    abs_err = list(np.subtract(Y,T))\n",
    "    rel_errors[str(month_current)] = np.divide(abs_err,T)*100\n",
    "plt.figure(figsize=(10, 7), dpi=100)\n",
    "plt.boxplot(rel_errors.values())\n",
    "plt.grid(which='both')\n",
    "plt.title('Диаграмма размаха ошибок прогноза метамодели')\n",
    "plt.xlabel('Номер месяца')\n",
    "plt.ylabel('Ошибка, в процентах')\n",
    "\n",
    "#print(XGB_models[month_current-1].feature_importances_)\n",
    "#rel_err #ошибка по кейсам на валидационной выборке в процентах\n"
   ]
  },
  {
   "cell_type": "code",
   "execution_count": 6,
   "metadata": {},
   "outputs": [
    {
     "data": {
      "image/png": "[encoded data removed]",
      "text/plain": [
       "<Figure size 800x600 with 1 Axes>"
      ]
     },
     "metadata": {},
     "output_type": "display_data"
    },
    {
     "data": {
      "text/plain": [
       "<Figure size 432x288 with 0 Axes>"
      ]
     },
     "metadata": {},
     "output_type": "display_data"
    },
    {
     "data": {
      "text/plain": [
       "<Figure size 800x600 with 0 Axes>"
      ]
     },
     "metadata": {},
     "output_type": "display_data"
    },
    {
     "data": {
      "text/plain": [
       "<Figure size 800x600 with 0 Axes>"
      ]
     },
     "metadata": {},
     "output_type": "display_data"
    },
    {
     "data": {
      "text/plain": [
       "<Figure size 800x600 with 0 Axes>"
      ]
     },
     "metadata": {},
     "output_type": "display_data"
    },
    {
     "data": {
      "text/plain": [
       "<Figure size 800x600 with 0 Axes>"
      ]
     },
     "metadata": {},
     "output_type": "display_data"
    },
    {
     "data": {
      "text/plain": [
       "<Figure size 800x600 with 0 Axes>"
      ]
     },
     "metadata": {},
     "output_type": "display_data"
    },
    {
     "data": {
      "text/plain": [
       "<Figure size 800x600 with 0 Axes>"
      ]
     },
     "metadata": {},
     "output_type": "display_data"
    },
    {
     "data": {
      "text/plain": [
       "<Figure size 800x600 with 0 Axes>"
      ]
     },
     "metadata": {},
     "output_type": "display_data"
    },
    {
     "data": {
      "text/plain": [
       "<Figure size 800x600 with 0 Axes>"
      ]
     },
     "metadata": {},
     "output_type": "display_data"
    },
    {
     "data": {
      "text/plain": [
       "<Figure size 800x600 with 0 Axes>"
      ]
     },
     "metadata": {},
     "output_type": "display_data"
    },
    {
     "data": {
      "text/plain": [
       "<Figure size 800x600 with 0 Axes>"
      ]
     },
     "metadata": {},
     "output_type": "display_data"
    },
    {
     "data": {
      "text/plain": [
       "<Figure size 800x600 with 0 Axes>"
      ]
     },
     "metadata": {},
     "output_type": "display_data"
    },
    {
     "data": {
      "text/plain": [
       "<Figure size 800x600 with 0 Axes>"
      ]
     },
     "metadata": {},
     "output_type": "display_data"
    },
    {
     "data": {
      "text/plain": [
       "<Figure size 800x600 with 0 Axes>"
      ]
     },
     "metadata": {},
     "output_type": "display_data"
    },
    {
     "data": {
      "text/plain": [
       "<Figure size 800x600 with 0 Axes>"
      ]
     },
     "metadata": {},
     "output_type": "display_data"
    },
    {
     "data": {
      "text/plain": [
       "<Figure size 800x600 with 0 Axes>"
      ]
     },
     "metadata": {},
     "output_type": "display_data"
    },
    {
     "data": {
      "text/plain": [
       "<Figure size 800x600 with 0 Axes>"
      ]
     },
     "metadata": {},
     "output_type": "display_data"
    },
    {
     "data": {
      "text/plain": [
       "<Figure size 800x600 with 0 Axes>"
      ]
     },
     "metadata": {},
     "output_type": "display_data"
    },
    {
     "data": {
      "text/plain": [
       "<Figure size 800x600 with 0 Axes>"
      ]
     },
     "metadata": {},
     "output_type": "display_data"
    },
    {
     "data": {
      "text/plain": [
       "<Figure size 800x600 with 0 Axes>"
      ]
     },
     "metadata": {},
     "output_type": "display_data"
    },
    {
     "data": {
      "text/plain": [
       "<Figure size 800x600 with 0 Axes>"
      ]
     },
     "metadata": {},
     "output_type": "display_data"
    },
    {
     "data": {
      "text/plain": [
       "<Figure size 800x600 with 0 Axes>"
      ]
     },
     "metadata": {},
     "output_type": "display_data"
    },
    {
     "data": {
      "text/plain": [
       "<Figure size 800x600 with 0 Axes>"
      ]
     },
     "metadata": {},
     "output_type": "display_data"
    },
    {
     "data": {
      "text/plain": [
       "<Figure size 800x600 with 0 Axes>"
      ]
     },
     "metadata": {},
     "output_type": "display_data"
    },
    {
     "data": {
      "text/plain": [
       "<Figure size 800x600 with 0 Axes>"
      ]
     },
     "metadata": {},
     "output_type": "display_data"
    },
    {
     "data": {
      "text/plain": [
       "<Figure size 800x600 with 0 Axes>"
      ]
     },
     "metadata": {},
     "output_type": "display_data"
    },
    {
     "data": {
      "text/plain": [
       "<Figure size 800x600 with 0 Axes>"
      ]
     },
     "metadata": {},
     "output_type": "display_data"
    },
    {
     "data": {
      "text/plain": [
       "<Figure size 800x600 with 0 Axes>"
      ]
     },
     "metadata": {},
     "output_type": "display_data"
    },
    {
     "data": {
      "text/plain": [
       "<Figure size 800x600 with 0 Axes>"
      ]
     },
     "metadata": {},
     "output_type": "display_data"
    },
    {
     "data": {
      "text/plain": [
       "<Figure size 800x600 with 0 Axes>"
      ]
     },
     "metadata": {},
     "output_type": "display_data"
    },
    {
     "data": {
      "text/plain": [
       "<Figure size 800x600 with 0 Axes>"
      ]
     },
     "metadata": {},
     "output_type": "display_data"
    },
    {
     "data": {
      "text/plain": [
       "<Figure size 800x600 with 0 Axes>"
      ]
     },
     "metadata": {},
     "output_type": "display_data"
    },
    {
     "data": {
      "text/plain": [
       "<Figure size 800x600 with 0 Axes>"
      ]
     },
     "metadata": {},
     "output_type": "display_data"
    },
    {
     "data": {
      "text/plain": [
       "<Figure size 800x600 with 0 Axes>"
      ]
     },
     "metadata": {},
     "output_type": "display_data"
    },
    {
     "data": {
      "text/plain": [
       "<Figure size 800x600 with 0 Axes>"
      ]
     },
     "metadata": {},
     "output_type": "display_data"
    },
    {
     "data": {
      "text/plain": [
       "<Figure size 800x600 with 0 Axes>"
      ]
     },
     "metadata": {},
     "output_type": "display_data"
    },
    {
     "data": {
      "text/plain": [
       "<Figure size 800x600 with 0 Axes>"
      ]
     },
     "metadata": {},
     "output_type": "display_data"
    },
    {
     "data": {
      "text/plain": [
       "<Figure size 800x600 with 0 Axes>"
      ]
     },
     "metadata": {},
     "output_type": "display_data"
    },
    {
     "data": {
      "text/plain": [
       "<Figure size 800x600 with 0 Axes>"
      ]
     },
     "metadata": {},
     "output_type": "display_data"
    },
    {
     "data": {
      "text/plain": [
       "<Figure size 800x600 with 0 Axes>"
      ]
     },
     "metadata": {},
     "output_type": "display_data"
    },
    {
     "data": {
      "text/plain": [
       "<Figure size 800x600 with 0 Axes>"
      ]
     },
     "metadata": {},
     "output_type": "display_data"
    },
    {
     "data": {
      "text/plain": [
       "<Figure size 800x600 with 0 Axes>"
      ]
     },
     "metadata": {},
     "output_type": "display_data"
    },
    {
     "data": {
      "text/plain": [
       "<Figure size 800x600 with 0 Axes>"
      ]
     },
     "metadata": {},
     "output_type": "display_data"
    },
    {
     "data": {
      "text/plain": [
       "<Figure size 800x600 with 0 Axes>"
      ]
     },
     "metadata": {},
     "output_type": "display_data"
    },
    {
     "data": {
      "text/plain": [
       "<Figure size 800x600 with 0 Axes>"
      ]
     },
     "metadata": {},
     "output_type": "display_data"
    },
    {
     "data": {
      "text/plain": [
       "<Figure size 800x600 with 0 Axes>"
      ]
     },
     "metadata": {},
     "output_type": "display_data"
    },
    {
     "data": {
      "text/plain": [
       "<Figure size 800x600 with 0 Axes>"
      ]
     },
     "metadata": {},
     "output_type": "display_data"
    },
    {
     "data": {
      "text/plain": [
       "<Figure size 800x600 with 0 Axes>"
      ]
     },
     "metadata": {},
     "output_type": "display_data"
    },
    {
     "data": {
      "text/plain": [
       "<Figure size 800x600 with 0 Axes>"
      ]
     },
     "metadata": {},
     "output_type": "display_data"
    },
    {
     "data": {
      "text/plain": [
       "<Figure size 800x600 with 0 Axes>"
      ]
     },
     "metadata": {},
     "output_type": "display_data"
    },
    {
     "data": {
      "text/plain": [
       "<Figure size 800x600 with 0 Axes>"
      ]
     },
     "metadata": {},
     "output_type": "display_data"
    },
    {
     "data": {
      "text/plain": [
       "<Figure size 800x600 with 0 Axes>"
      ]
     },
     "metadata": {},
     "output_type": "display_data"
    },
    {
     "data": {
      "text/plain": [
       "<Figure size 800x600 with 0 Axes>"
      ]
     },
     "metadata": {},
     "output_type": "display_data"
    },
    {
     "data": {
      "text/plain": [
       "<Figure size 800x600 with 0 Axes>"
      ]
     },
     "metadata": {},
     "output_type": "display_data"
    },
    {
     "data": {
      "text/plain": [
       "<Figure size 800x600 with 0 Axes>"
      ]
     },
     "metadata": {},
     "output_type": "display_data"
    },
    {
     "data": {
      "text/plain": [
       "<Figure size 800x600 with 0 Axes>"
      ]
     },
     "metadata": {},
     "output_type": "display_data"
    },
    {
     "data": {
      "text/plain": [
       "<Figure size 800x600 with 0 Axes>"
      ]
     },
     "metadata": {},
     "output_type": "display_data"
    },
    {
     "data": {
      "text/plain": [
       "<Figure size 800x600 with 0 Axes>"
      ]
     },
     "metadata": {},
     "output_type": "display_data"
    },
    {
     "data": {
      "text/plain": [
       "<Figure size 800x600 with 0 Axes>"
      ]
     },
     "metadata": {},
     "output_type": "display_data"
    },
    {
     "data": {
      "text/plain": [
       "<Figure size 800x600 with 0 Axes>"
      ]
     },
     "metadata": {},
     "output_type": "display_data"
    },
    {
     "data": {
      "image/png": "[encoded data removed]",
      "text/plain": [
       "<Figure size 800x600 with 1 Axes>"
      ]
     },
     "metadata": {
      "needs_background": "light"
     },
     "output_type": "display_data"
    }
   ],
   "source": [
    "# Визуализация степени влияния входных параметров на результат расчёта (для\n",
    "# каждого месяца)\n",
    "\n",
    "%matplotlib inline\n",
    "\n",
    "bars = ('Пористость \\n матрицы','Проницаемость \\n матрицы',\n",
    "        'Пористость \\n трещин','Проницаемость \\n трещин')\n",
    "x_pos = np.arange(len(bars))\n",
    "for i in range(1,month_count):\n",
    "    plt.clf()\n",
    "    plt.figure(figsize=(8, 6), dpi=100)\n",
    "    plt.ylim((0,1))\n",
    "    plt.ylabel('Доли единицы',fontsize=12)\n",
    "    plt.grid(axis='y')\n",
    "    plt.title('Степень влияния входных параметров на результат прогноза '\n",
    "              + '\\n Номер месяца: ' + str(i))\n",
    "    plt.bar(range(len(XGB_models[i-1].feature_importances_)),\n",
    "            XGB_models[i-1].feature_importances_,label='d')\n",
    "    plt.xticks(x_pos,bars)\n",
    "    display.clear_output(wait=True)\n",
    "    display.display(pl.gcf())\n",
    "    #if i==1:\n",
    "    #    time.sleep(10)\n",
    "    time.sleep(0.3)\n"
   ]
  },
  {
   "cell_type": "code",
   "execution_count": null,
   "metadata": {},
   "outputs": [],
   "source": []
  }
 ],
 "metadata": {
  "kernelspec": {
   "display_name": "Python 3",
   "language": "python",
   "name": "python3"
  },
  "language_info": {
   "codemirror_mode": {
    "name": "ipython",
    "version": 3
   },
   "file_extension": ".py",
   "mimetype": "text/x-python",
   "name": "python",
   "nbconvert_exporter": "python",
   "pygments_lexer": "ipython3",
   "version": "3.8.3"
  }
 },
 "nbformat": 4,
 "nbformat_minor": 4
}
